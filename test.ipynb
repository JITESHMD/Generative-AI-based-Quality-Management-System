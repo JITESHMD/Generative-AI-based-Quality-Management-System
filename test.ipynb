{
 "cells": [
  {
   "cell_type": "code",
   "execution_count": null,
   "metadata": {},
   "outputs": [
    {
     "ename": "",
     "evalue": "",
     "output_type": "error",
     "traceback": [
      "\u001b[1;31mRunning cells with 'audio' requires the ipykernel package.\n",
      "\u001b[1;31mRun the following command to install 'ipykernel' into the Python environment. \n",
      "\u001b[1;31mCommand: 'conda install -n audio ipykernel --update-deps --force-reinstall'"
     ]
    }
   ],
   "source": []
  },
  {
   "cell_type": "code",
   "execution_count": null,
   "metadata": {},
   "outputs": [],
   "source": []
  },
  {
   "cell_type": "code",
   "execution_count": 2,
   "metadata": {},
   "outputs": [
    {
     "name": "stdout",
     "output_type": "stream",
     "text": [
      "Matched AHT Keywords: []\n"
     ]
    }
   ],
   "source": [
    "# Define keywords associated with Average Handle Time (AHT)\n",
    "aht_keywords = [\"duration\", \"hold time\", \"talk time\", \"after-call work\"]\n",
    "\n",
    "# Sample text data\n",
    "text = \"\"\"\n",
    "Good morning purim this side from Super Delhi. Am I speaking to Pushpakji right? Yes. The call is regarding the complaint of partial order delivered concern later to today's delivery you raised the ticket that dates original 500 grams. One packet is missing, right? Yes. So sir, you received a cabbage in one packet, right? Yes. So in that packet some different items, some wrong items you received or only a single quantity of cabbage is there. And the outer packet is in damage or in open condition. Or it is a totally sealed pack condition. So your voice is very low. Hello. Yeah yeah. The packet in which you receive the cabin is that packet is in open or damaged condition or totally sealed package. So some wrong items you received in that packet or only single quantity of the cabbage is there. So may be possible that during packing at the warehouse maybe the person mistakenly forget to put this item. But no worries sir. I'm escalating sharing all the information given in return to the consent department regarding this. So right now I'm initiating a refund here. So possibilities both either you get refund or maybe reshooted for the next day. Because we are only authorized to initiate a refund to the customer. But sometimes system automatically converted in reschedule also. So that's the reason possibly is both. And I think that you already know about it. That customer have also right to cancel the residual product from the cleaner. So after cancellation it will take hardly 1015 minutes. That amount will be refunded in wallet session. Okay sir. Is there anything else? Yeah, about my second. Your voice is very low. Yes sir. Sorry but again your voice is very low. Words are not clearly audible. Okay. You are concerned. Yeah, now it's audible. Yeah. You're talking about the. You're talking about. Yeah, see. So you raise a ticket for quality expire so you receive the product but expiry packets you received. Yes actually those like. Yeah but. But don't worry. Actually I'm not in that department. Because you. If you are getting up packets of expiry date now. So regarding this, you already raised the right ticket. That is quality expired. So in this situation, our quality agent connect you and give the resolution for the same. Because if the customer. If the customer not receive the product or some item is missing inside the packet. So in that case, I'm the authorized person who initiated refund to the customer. Okay? So no worry. Our quality agent also connect you for the resolution. Thank you. Is there anything else I could help you with? That's all. That's all. Thank you. Okay sir. Thank you. Thank you for choosing super daily. Have a super daily. Thank you.\n",
    "\"\"\"\n",
    "\n",
    "# Function to perform keyword matching for AHT\n",
    "def match_aht_keywords(text):\n",
    "    matched_keywords = []\n",
    "    for keyword in aht_keywords:\n",
    "        if keyword in text.lower():\n",
    "            matched_keywords.append(keyword)\n",
    "    return matched_keywords\n",
    "\n",
    "# Perform keyword matching\n",
    "matched_aht_keywords = match_aht_keywords(text)\n",
    "\n",
    "# Print matched keywords\n",
    "print(\"Matched AHT Keywords:\", matched_aht_keywords)\n"
   ]
  },
  {
   "cell_type": "code",
   "execution_count": 3,
   "metadata": {},
   "outputs": [
    {
     "name": "stdout",
     "output_type": "stream",
     "text": [
      "Matched FCR Patterns: ['\\\\bresolved on the first interaction\\\\b']\n"
     ]
    }
   ],
   "source": [
    "import re\n",
    "\n",
    "# Define regex patterns indicative of FCR\n",
    "fcr_patterns = [\n",
    "    r\"\\bresolved on the first interaction\\b\",\n",
    "    r\"\\bsolved immediately\\b\",\n",
    "    # Add more patterns as needed\n",
    "]\n",
    "\n",
    "# Sample text data\n",
    "text = \"\"\"\n",
    "The customer's issue was resolved on the first interaction with the agent.\n",
    "We aim to provide immediate solutions to customer problems.\n",
    "\"\"\"\n",
    "\n",
    "# Function to perform pattern matching for FCR\n",
    "def match_fcr_patterns(text):\n",
    "    matched_patterns = []\n",
    "    for pattern in fcr_patterns:\n",
    "        if re.search(pattern, text.lower()):\n",
    "            matched_patterns.append(pattern)\n",
    "    return matched_patterns\n",
    "\n",
    "# Perform pattern matching\n",
    "matched_fcr_patterns = match_fcr_patterns(text)\n",
    "\n",
    "# Print matched patterns\n",
    "print(\"Matched FCR Patterns:\", matched_fcr_patterns)\n"
   ]
  },
  {
   "cell_type": "code",
   "execution_count": null,
   "metadata": {},
   "outputs": [],
   "source": []
  }
 ],
 "metadata": {
  "kernelspec": {
   "display_name": "audio",
   "language": "python",
   "name": "python3"
  },
  "language_info": {
   "codemirror_mode": {
    "name": "ipython",
    "version": 3
   },
   "file_extension": ".py",
   "mimetype": "text/x-python",
   "name": "python",
   "nbconvert_exporter": "python",
   "pygments_lexer": "ipython3",
   "version": "3.10.14"
  }
 },
 "nbformat": 4,
 "nbformat_minor": 2
}
